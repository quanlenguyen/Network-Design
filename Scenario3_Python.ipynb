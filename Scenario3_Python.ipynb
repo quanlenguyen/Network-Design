{
 "cells": [
  {
   "cell_type": "markdown",
   "id": "d22c923d-ee00-40a9-883c-f93ce13d7a77",
   "metadata": {},
   "source": [
    "# 1. Importing necessary libraries and packages"
   ]
  },
  {
   "cell_type": "code",
   "execution_count": 1,
   "id": "2c771f7e-8d2f-4ca2-8698-7e3e4f97b531",
   "metadata": {},
   "outputs": [],
   "source": [
    "from scx.optimize import Model\n",
    "import pandas as pd"
   ]
  },
  {
   "cell_type": "markdown",
   "id": "b8eb9f46-d0ca-4570-828b-512d7aa76f6e",
   "metadata": {},
   "source": [
    "# 2. Data Collection and Preprocessing"
   ]
  },
  {
   "cell_type": "code",
   "execution_count": 2,
   "id": "4f117577-aea1-4647-92c4-650167b14bee",
   "metadata": {},
   "outputs": [],
   "source": [
    "# Load Demand, Facility Data, Transportation Cost from xlxs file (DataInput_Scen3.xlsx)\n",
    "df_outdist=pd.read_excel('DataInput.xlsx',sheet_name='OutDist',skiprows=1,index_col=0) # Outbound Distance Table (DCs - Retailers)\n",
    "df_out_transcost=pd.read_excel('DataInput.xlsx',sheet_name='OutTransCost',skiprows=1,index_col=0) # Outbound Transportation Cost Table\n",
    "df_demand=pd.read_excel('DataInput.xlsx',sheet_name='Demand',skiprows=1) # Retailer's Demand Table\n",
    "df_dccost=pd.read_excel('DataInput.xlsx',sheet_name='CWCost',skiprows=1, index_col=0) # DC's Data Table (including Variable Cost, Fixed Cost)\n",
    "df_indist=pd.read_excel('DataInput.xlsx',sheet_name='InDist',skiprows=1, index_col=0) # Inbound Distance Table (Plants - DC)\n",
    "df_pcost_cap=pd.read_excel('DataInput.xlsx',sheet_name='PCost_Cap',skiprows=1, index_col=0) # Plant's Data Talbe (including Variable Cost, Capacity)"
   ]
  },
  {
   "cell_type": "code",
   "execution_count": 3,
   "id": "a769952d-bc64-4c0a-b304-cfa535b89643",
   "metadata": {},
   "outputs": [],
   "source": [
    "# List of Plant, DC, Retail load from input table above\n",
    "list_plant=df_indist.columns.to_list()\n",
    "list_dc=df_indist.index.to_list()\n",
    "list_r=df_outdist.columns.to_list()"
   ]
  },
  {
   "cell_type": "code",
   "execution_count": 4,
   "id": "cc0af270-cfe3-445b-adad-b785e264b34a",
   "metadata": {},
   "outputs": [],
   "source": [
    "in_transcost=0.06 # inbound transportation cost\n",
    "M=9999 # a big number use for setting up Linking Constraint \n",
    "\n",
    "# List of Inbound Transportation flow, including all relevant information loaded from data in above Tables\n",
    "inbound_trans=[]\n",
    "for plant in list_plant:\n",
    "    for dc in list_dc:\n",
    "        dict={}\n",
    "        dict['origin']=plant\n",
    "        dict['destination']=dc\n",
    "        dict['dist']=df_indist.loc[dc,plant]\n",
    "        dict['trans_cost']=in_transcost\n",
    "        dict['p_var_cost']=df_pcost_cap.loc[plant,'Variable costs']\n",
    "        dict['dc_var_cost']=df_dccost.loc[dc,'Variable costs']\n",
    "        inbound_trans.append(dict)\n",
    "\n",
    "# List of Outbound Transportation flow, including all relevant information loaded from data in above Tables\n",
    "outbound_trans=[]\n",
    "for dc in list_dc:\n",
    "    for r in list_r:\n",
    "        dict={}\n",
    "        dict['origin']=dc\n",
    "        dict['destination']=r\n",
    "        dict['dist']=df_outdist.loc[dc,r]\n",
    "        dict['trans_cost']=df_out_transcost.loc[dc,r]\n",
    "        if dict['dist']<=75: \n",
    "            dict['<=80km?']= 1\n",
    "        else : \n",
    "            dict['<=80km?']=0\n",
    "        outbound_trans.append(dict)\n",
    "        \n",
    "# List of Retailers and its Demand\n",
    "rs_demand=[]\n",
    "for r in list_r:\n",
    "    dict={}\n",
    "    dict['name']=r\n",
    "    dict['demand']=df_demand.loc[0,r]\n",
    "    rs_demand.append(dict)\n",
    "\n",
    "# List of Plants and its Supply (Capacity)\n",
    "plants_supply=[]\n",
    "for plant in list_plant:\n",
    "    dict={}\n",
    "    dict['name']=plant\n",
    "    dict['capacity']=df_pcost_cap.loc[plant,'Capacity']\n",
    "    plants_supply.append(dict)\n",
    "\n",
    "# List of DCs and its Fixed Cost\n",
    "dcs_cost=[]\n",
    "for dc in list_dc:\n",
    "    dict={}\n",
    "    dict['name']=dc\n",
    "    dict['fixed_cost']=df_dccost.loc[dc,'Fixed costs']\n",
    "    dcs_cost.append(dict)"
   ]
  },
  {
   "cell_type": "code",
   "execution_count": 5,
   "id": "1a9567c9-c01f-4ee0-84ab-49a9c7fd8e50",
   "metadata": {},
   "outputs": [
    {
     "data": {
      "text/plain": [
       "{'origin': 'Plant1',\n",
       " 'destination': 'DC1',\n",
       " 'dist': 860,\n",
       " 'trans_cost': 0.06,\n",
       " 'p_var_cost': 8,\n",
       " 'dc_var_cost': 8}"
      ]
     },
     "execution_count": 5,
     "metadata": {},
     "output_type": "execute_result"
    }
   ],
   "source": [
    "# check inbound transportation flow\n",
    "inbound_trans[0]"
   ]
  },
  {
   "cell_type": "code",
   "execution_count": 6,
   "id": "9978f4ff-3339-4f47-ba97-7134f587c5c0",
   "metadata": {},
   "outputs": [
    {
     "data": {
      "text/plain": [
       "{'origin': 'DC1',\n",
       " 'destination': 'R1',\n",
       " 'dist': 89,\n",
       " 'trans_cost': 1.9,\n",
       " '<=80km?': 0}"
      ]
     },
     "execution_count": 6,
     "metadata": {},
     "output_type": "execute_result"
    }
   ],
   "source": [
    "# Check Outbound Transportation Flow\n",
    "outbound_trans[0]"
   ]
  },
  {
   "cell_type": "markdown",
   "id": "a99dc3cc-b691-4725-bc84-2f0791172f65",
   "metadata": {},
   "source": [
    "# 3. Formulated MILPs Model"
   ]
  },
  {
   "cell_type": "markdown",
   "id": "ff383ec4-0cde-4e6d-8cc4-7d704011f0a4",
   "metadata": {},
   "source": [
    "## 3.1 Define Variables"
   ]
  },
  {
   "cell_type": "code",
   "execution_count": 7,
   "id": "68ff9fb1-f80a-4bf5-98e0-5891044ef628",
   "metadata": {},
   "outputs": [],
   "source": [
    "# 'amt' variable is an \"Amount\" of product flow through arcs\n",
    "for inbound in inbound_trans:\n",
    "    inbound['amt']=Model.variable(name=f\"{inbound['origin']}_to_{inbound['destination']}_amt\",lowBound=0,cat='Integer')\n",
    "for outbound in outbound_trans:\n",
    "    outbound['amt']=Model.variable(name=f\"{outbound['origin']}_to_{outbound['destination']}_amt\",lowBound=0,cat='Integer')\n",
    "# 'open?' is binary variable indicating whether the DC is open (1) or not (0)\n",
    "for dc in dcs_cost:\n",
    "    dc['open?']=Model.variable(name=f\"{dc['name']}_open?\", cat='Binary')"
   ]
  },
  {
   "cell_type": "code",
   "execution_count": 8,
   "id": "3c16c85b-b346-4d54-80ac-7b94182a96c0",
   "metadata": {},
   "outputs": [
    {
     "data": {
      "text/plain": [
       "{'origin': 'Plant1',\n",
       " 'destination': 'DC1',\n",
       " 'dist': 860,\n",
       " 'trans_cost': 0.06,\n",
       " 'p_var_cost': 8,\n",
       " 'dc_var_cost': 8,\n",
       " 'amt': Plant1_to_DC1_amt}"
      ]
     },
     "execution_count": 8,
     "metadata": {},
     "output_type": "execute_result"
    }
   ],
   "source": [
    "# recheck Intbound Transportation Flow (after adding \"amt\" variable)\n",
    "inbound_trans[0]"
   ]
  },
  {
   "cell_type": "code",
   "execution_count": 9,
   "id": "ea9eaa5d-dc4a-44af-81ca-a007388ac47f",
   "metadata": {},
   "outputs": [
    {
     "data": {
      "text/plain": [
       "{'origin': 'DC1',\n",
       " 'destination': 'R1',\n",
       " 'dist': 89,\n",
       " 'trans_cost': 1.9,\n",
       " '<=80km?': 0,\n",
       " 'amt': DC1_to_R1_amt}"
      ]
     },
     "execution_count": 9,
     "metadata": {},
     "output_type": "execute_result"
    }
   ],
   "source": [
    "# recheck Outbound Transportation Flow (after adding \"amt\" variable)\n",
    "outbound_trans[0]"
   ]
  },
  {
   "cell_type": "code",
   "execution_count": 10,
   "id": "338aa025-c517-4a92-b7e6-d929f5134f09",
   "metadata": {},
   "outputs": [
    {
     "data": {
      "text/plain": [
       "{'name': 'DC1', 'fixed_cost': 20000, 'open?': DC1_open?}"
      ]
     },
     "execution_count": 10,
     "metadata": {},
     "output_type": "execute_result"
    }
   ],
   "source": [
    "# recheck DCs Status (after adding \"open?\" variable)\n",
    "dcs_cost[0]"
   ]
  },
  {
   "cell_type": "markdown",
   "id": "2d8113ac-29ec-478a-8452-df70b4f1e9b2",
   "metadata": {},
   "source": [
    "## 3.2 Model Initialization"
   ]
  },
  {
   "cell_type": "code",
   "execution_count": 11,
   "id": "f8480a8c-3460-4751-b548-e8fe41a63571",
   "metadata": {},
   "outputs": [],
   "source": [
    "my_model=Model('EcoTreat',sense='Minimize')"
   ]
  },
  {
   "cell_type": "markdown",
   "id": "5371d343-968e-41c2-ac8b-7c3f94c6670d",
   "metadata": {},
   "source": [
    "### Add Objective"
   ]
  },
  {
   "cell_type": "code",
   "execution_count": 12,
   "id": "5721047f-78f7-4333-b803-f82b9b4778a8",
   "metadata": {},
   "outputs": [],
   "source": [
    "my_model.add_objective(fn=sum(inbound['amt']*inbound['p_var_cost'] for inbound in inbound_trans) # Plant variable operating costs\n",
    "                       + sum(inbound['amt']*inbound['dist']*inbound['trans_cost'] for inbound in inbound_trans) # Inbound transportation costs (Plants - DCs)\n",
    "                       + sum(dc['fixed_cost']*dc['open?'] for dc in dcs_cost) # Distribution Center fixed costs\n",
    "                       + sum(inbound['amt']*inbound['dc_var_cost'] for inbound in inbound_trans) # Distribution Center variable operating costs\n",
    "                       + sum(outbound['amt']*outbound['dist']*outbound['trans_cost'] for outbound in outbound_trans) # Outbound transportation costs (DCs - Rs)\n",
    "                      )"
   ]
  },
  {
   "cell_type": "markdown",
   "id": "309eeb0b-642f-4e2d-a528-1ebd3cba4695",
   "metadata": {},
   "source": [
    "### Add Constraint"
   ]
  },
  {
   "cell_type": "markdown",
   "id": "08d200d7-86b5-4532-a039-9304a66f3c9b",
   "metadata": {},
   "source": [
    "#### Demand"
   ]
  },
  {
   "cell_type": "code",
   "execution_count": 13,
   "id": "1b39e426-b37d-469c-9c2d-6e24498a03df",
   "metadata": {},
   "outputs": [],
   "source": [
    "# Demand Constraint: Total product served to a specific Rs must meet its demand\n",
    "for demand in rs_demand:\n",
    "    my_model.add_constraint(name=f\"{demand['name']}_demand\", \n",
    "                            fn=sum(outbound['amt'] for outbound in outbound_trans if outbound['destination']==demand['name'])==demand['demand'])\n"
   ]
  },
  {
   "cell_type": "markdown",
   "id": "f58d5840-f082-4de5-be79-9210645ec2c3",
   "metadata": {},
   "source": [
    "#### Capacity "
   ]
  },
  {
   "cell_type": "code",
   "execution_count": 14,
   "id": "1a1eb141-7ed1-4f34-9740-4c775cf6affb",
   "metadata": {},
   "outputs": [],
   "source": [
    "# Supply Constraints: Total product produced by a specific plant must not exceed its capacity\n",
    "for supply in plants_supply:\n",
    "    my_model.add_constraint(name=f\"{supply['name']}_supply\", \n",
    "                            fn=sum(inbound['amt'] for inbound in inbound_trans if inbound['origin']==supply['name'])<=supply['capacity'])"
   ]
  },
  {
   "cell_type": "markdown",
   "id": "e04a17ea-ff0a-4858-8f92-2752b468dbc2",
   "metadata": {},
   "source": [
    "#### Flow Balance"
   ]
  },
  {
   "cell_type": "code",
   "execution_count": 15,
   "id": "f10dbd93-4222-4b9a-82db-4bda9e108aa1",
   "metadata": {},
   "outputs": [],
   "source": [
    "# Flow Balance Constraints: Total input product of each DC must equal total output\n",
    "for dc in list_dc:\n",
    "    my_model.add_constraint(name=f\"{dc}_flow_balance\",\n",
    "                           fn=sum(inbound['amt'] for inbound in inbound_trans if inbound['destination']==dc)\n",
    "                            ==sum(outbound['amt'] for outbound in outbound_trans if outbound['origin']==dc))"
   ]
  },
  {
   "cell_type": "markdown",
   "id": "31bae3f3-5c18-4a77-8031-19adbc238711",
   "metadata": {},
   "source": [
    "#### Linking "
   ]
  },
  {
   "cell_type": "code",
   "execution_count": 16,
   "id": "665b2966-ee1d-4da0-963f-9538c568760b",
   "metadata": {},
   "outputs": [],
   "source": [
    "# Linking Constraints: The binary variable for DC selection must reflect the actual selection status\n",
    "for dc in dcs_cost:\n",
    "    my_model.add_constraint(name=f\"{dc['name']}_open?\",\n",
    "                           fn=(sum(outbound['amt'] for outbound in outbound_trans if outbound['origin']==dc['name'])-M*dc['open?'])<=0)"
   ]
  },
  {
   "cell_type": "markdown",
   "id": "26dd9d66-8c62-439d-bb89-e9ecc3e32508",
   "metadata": {},
   "source": [
    "#### Number of DCs"
   ]
  },
  {
   "cell_type": "code",
   "execution_count": 17,
   "id": "704dd574-d50c-497a-8774-0543c602f941",
   "metadata": {},
   "outputs": [],
   "source": [
    "# Open 2 DCs\n",
    "my_model.add_constraint(name='Min DC open',\n",
    "                       fn=sum(dc['open?'] for dc in dcs_cost)>=0)\n",
    "my_model.add_constraint(name='Max DC open',\n",
    "                       fn=sum(dc['open?'] for dc in dcs_cost)<=2)"
   ]
  },
  {
   "cell_type": "code",
   "execution_count": 18,
   "id": "35151b8d-3f15-4fd7-b54f-e88eded82cae",
   "metadata": {},
   "outputs": [],
   "source": [
    "# Force DC4 is one of 2 which opened\n",
    "for dc in dcs_cost:\n",
    "    if dc['name']=='DC4':\n",
    "        my_model.add_constraint(name='DC4 is opening',\n",
    "                                fn= (dc['open?']==1))\n",
    "    else:\n",
    "        None"
   ]
  },
  {
   "cell_type": "markdown",
   "id": "04708bad-218a-4f32-b3d2-88b92cbe575e",
   "metadata": {},
   "source": [
    "#### Level Of Service"
   ]
  },
  {
   "cell_type": "code",
   "execution_count": 19,
   "id": "566b3876-7f8f-4faa-88a4-5cc5db064d7d",
   "metadata": {},
   "outputs": [],
   "source": [
    "# 80% of Retailers demand to be within 75 kilometers of the DC\n",
    "my_model.add_constraint(name='60% of Retailer demand to be within 80 km of the DC',\n",
    "                       fn=(sum(outbound['<=80km?']*outbound['amt'] for outbound in outbound_trans)/sum(demand['demand'] for demand in rs_demand))>=0.8\n",
    "                       )"
   ]
  },
  {
   "cell_type": "code",
   "execution_count": 20,
   "id": "a293dcdd-5772-43b1-a7dc-40e518431be5",
   "metadata": {},
   "outputs": [],
   "source": [
    "# Average weighted distance from DC-R <= 65 kilometers\n",
    "my_model.add_constraint(name='Average weighted distance from DC-R <=80',\n",
    "                       fn=(sum(outbound['dist']*outbound['amt'] for outbound in outbound_trans)/sum(demand['demand'] for demand in rs_demand))<=65\n",
    "                       )"
   ]
  },
  {
   "cell_type": "markdown",
   "id": "d43a99f4-5902-423e-9e58-8f5a35ce58ed",
   "metadata": {},
   "source": [
    "## Solve and get output"
   ]
  },
  {
   "cell_type": "code",
   "execution_count": 21,
   "id": "0d60081e-e2e9-44ca-ab23-b5f55b47a18f",
   "metadata": {},
   "outputs": [
    {
     "name": "stdout",
     "output_type": "stream",
     "text": [
      "EcoTreat:\n",
      "MINIMIZE\n",
      "20000*DC1_open? + 162.0*DC1_to_R10_amt + 158.1*DC1_to_R11_amt + 123.2*DC1_to_R12_amt + 88.0*DC1_to_R13_amt + 94.8*DC1_to_R14_amt + 136.5*DC1_to_R15_amt + 169.1*DC1_to_R1_amt + 148.2*DC1_to_R2_amt + 69.0*DC1_to_R3_amt + 114.0*DC1_to_R4_amt + 87.6*DC1_to_R6_amt + 96.80000000000001*DC1_to_R7_amt + 80.30000000000001*DC1_to_R8_amt + 111.8*DC1_to_R9_amt + 127.5*DC1_to__R5_amt + 9999999*DC2_open? + 112.2*DC2_to_R10_amt + 111.0*DC2_to_R11_amt + 61.199999999999996*DC2_to_R12_amt + 51.0*DC2_to_R13_amt + 90.0*DC2_to_R14_amt + 120.0*DC2_to_R15_amt + 90.0*DC2_to_R1_amt + 100.8*DC2_to_R2_amt + 75.6*DC2_to_R3_amt + 109.8*DC2_to_R4_amt + 58.0*DC2_to_R6_amt + 142.4*DC2_to_R7_amt + 128.0*DC2_to_R8_amt + 71.5*DC2_to_R9_amt + 178.6*DC2_to__R5_amt + 16000*DC3_open? + 117.8*DC3_to_R10_amt + 89.10000000000001*DC3_to_R11_amt + 108.80000000000001*DC3_to_R12_amt + 90.0*DC3_to_R13_amt + 123.0*DC3_to_R14_amt + 133.0*DC3_to_R15_amt + 137.7*DC3_to_R1_amt + 114.8*DC3_to_R2_amt + 113.60000000000001*DC3_to_R3_amt + 147.0*DC3_to_R4_amt + 127.8*DC3_to_R6_amt + 144.5*DC3_to_R7_amt + 142.5*DC3_to_R8_amt + 72.0*DC3_to_R9_amt + 86.8*DC3_to__R5_amt + 15000*DC4_open? + 142.5*DC4_to_R10_amt + 58.300000000000004*DC4_to_R11_amt + 115.19999999999999*DC4_to_R12_amt + 108.80000000000001*DC4_to_R13_amt + 115.2*DC4_to_R14_amt + 93.50000000000001*DC4_to_R15_amt + 131.4*DC4_to_R1_amt + 93.8*DC4_to_R2_amt + 77.0*DC4_to_R3_amt + 127.5*DC4_to_R4_amt + 70.2*DC4_to_R6_amt + 74.39999999999999*DC4_to_R7_amt + 148.5*DC4_to_R8_amt + 70.8*DC4_to_R9_amt + 154.8*DC4_to__R5_amt + 11000*DC5_open? + 135.79999999999998*DC5_to_R10_amt + 199.5*DC5_to_R11_amt + 101.4*DC5_to_R12_amt + 96.80000000000001*DC5_to_R13_amt + 88.0*DC5_to_R14_amt + 104.0*DC5_to_R15_amt + 151.29999999999998*DC5_to_R1_amt + 111.0*DC5_to_R2_amt + 144.0*DC5_to_R3_amt + 164.9*DC5_to_R4_amt + 131.3*DC5_to_R6_amt + 147.9*DC5_to_R7_amt + 111.0*DC5_to_R8_amt + 131.3*DC5_to_R9_amt + 160.0*DC5_to__R5_amt + 67.6*Plant1_to_DC1_amt + 67.8*Plant1_to_DC2_amt + 81.9*Plant1_to_DC3_amt + 87.19999999999999*Plant1_to_DC4_amt + 101.62*Plant1_to_DC5_amt + 73.38*Plant2_to_DC1_amt + 71.9*Plant2_to_DC2_amt + 85.4*Plant2_to_DC3_amt + 92.97999999999999*Plant2_to_DC4_amt + 107.64*Plant2_to_DC5_amt + 0.0\n",
      "SUBJECT TO\n",
      "R1_demand: DC1_to_R1_amt + DC2_to_R1_amt + DC3_to_R1_amt + DC4_to_R1_amt\n",
      " + DC5_to_R1_amt = 620\n",
      "\n",
      "R2_demand: DC1_to_R2_amt + DC2_to_R2_amt + DC3_to_R2_amt + DC4_to_R2_amt\n",
      " + DC5_to_R2_amt = 457\n",
      "\n",
      "R3_demand: DC1_to_R3_amt + DC2_to_R3_amt + DC3_to_R3_amt + DC4_to_R3_amt\n",
      " + DC5_to_R3_amt = 397\n",
      "\n",
      "R4_demand: DC1_to_R4_amt + DC2_to_R4_amt + DC3_to_R4_amt + DC4_to_R4_amt\n",
      " + DC5_to_R4_amt = 600\n",
      "\n",
      "_R5_demand: DC1_to__R5_amt + DC2_to__R5_amt + DC3_to__R5_amt + DC4_to__R5_amt\n",
      " + DC5_to__R5_amt = 340\n",
      "\n",
      "R6_demand: DC1_to_R6_amt + DC2_to_R6_amt + DC3_to_R6_amt + DC4_to_R6_amt\n",
      " + DC5_to_R6_amt = 535\n",
      "\n",
      "R7_demand: DC1_to_R7_amt + DC2_to_R7_amt + DC3_to_R7_amt + DC4_to_R7_amt\n",
      " + DC5_to_R7_amt = 750\n",
      "\n",
      "R8_demand: DC1_to_R8_amt + DC2_to_R8_amt + DC3_to_R8_amt + DC4_to_R8_amt\n",
      " + DC5_to_R8_amt = 352\n",
      "\n",
      "R9_demand: DC1_to_R9_amt + DC2_to_R9_amt + DC3_to_R9_amt + DC4_to_R9_amt\n",
      " + DC5_to_R9_amt = 520\n",
      "\n",
      "R10_demand: DC1_to_R10_amt + DC2_to_R10_amt + DC3_to_R10_amt + DC4_to_R10_amt\n",
      " + DC5_to_R10_amt = 407\n",
      "\n",
      "R11_demand: DC1_to_R11_amt + DC2_to_R11_amt + DC3_to_R11_amt + DC4_to_R11_amt\n",
      " + DC5_to_R11_amt = 520\n",
      "\n",
      "R12_demand: DC1_to_R12_amt + DC2_to_R12_amt + DC3_to_R12_amt + DC4_to_R12_amt\n",
      " + DC5_to_R12_amt = 690\n",
      "\n",
      "R13_demand: DC1_to_R13_amt + DC2_to_R13_amt + DC3_to_R13_amt + DC4_to_R13_amt\n",
      " + DC5_to_R13_amt = 313\n",
      "\n",
      "R14_demand: DC1_to_R14_amt + DC2_to_R14_amt + DC3_to_R14_amt + DC4_to_R14_amt\n",
      " + DC5_to_R14_amt = 503\n",
      "\n",
      "R15_demand: DC1_to_R15_amt + DC2_to_R15_amt + DC3_to_R15_amt + DC4_to_R15_amt\n",
      " + DC5_to_R15_amt = 496\n",
      "\n",
      "Plant1_supply: Plant1_to_DC1_amt + Plant1_to_DC2_amt + Plant1_to_DC3_amt\n",
      " + Plant1_to_DC4_amt + Plant1_to_DC5_amt <= 3000\n",
      "\n",
      "Plant2_supply: Plant2_to_DC1_amt + Plant2_to_DC2_amt + Plant2_to_DC3_amt\n",
      " + Plant2_to_DC4_amt + Plant2_to_DC5_amt <= 6000\n",
      "\n",
      "DC1_flow_balance: - DC1_to_R10_amt - DC1_to_R11_amt - DC1_to_R12_amt\n",
      " - DC1_to_R13_amt - DC1_to_R14_amt - DC1_to_R15_amt - DC1_to_R1_amt\n",
      " - DC1_to_R2_amt - DC1_to_R3_amt - DC1_to_R4_amt - DC1_to_R6_amt\n",
      " - DC1_to_R7_amt - DC1_to_R8_amt - DC1_to_R9_amt - DC1_to__R5_amt\n",
      " + Plant1_to_DC1_amt + Plant2_to_DC1_amt = 0\n",
      "\n",
      "DC2_flow_balance: - DC2_to_R10_amt - DC2_to_R11_amt - DC2_to_R12_amt\n",
      " - DC2_to_R13_amt - DC2_to_R14_amt - DC2_to_R15_amt - DC2_to_R1_amt\n",
      " - DC2_to_R2_amt - DC2_to_R3_amt - DC2_to_R4_amt - DC2_to_R6_amt\n",
      " - DC2_to_R7_amt - DC2_to_R8_amt - DC2_to_R9_amt - DC2_to__R5_amt\n",
      " + Plant1_to_DC2_amt + Plant2_to_DC2_amt = 0\n",
      "\n",
      "DC3_flow_balance: - DC3_to_R10_amt - DC3_to_R11_amt - DC3_to_R12_amt\n",
      " - DC3_to_R13_amt - DC3_to_R14_amt - DC3_to_R15_amt - DC3_to_R1_amt\n",
      " - DC3_to_R2_amt - DC3_to_R3_amt - DC3_to_R4_amt - DC3_to_R6_amt\n",
      " - DC3_to_R7_amt - DC3_to_R8_amt - DC3_to_R9_amt - DC3_to__R5_amt\n",
      " + Plant1_to_DC3_amt + Plant2_to_DC3_amt = 0\n",
      "\n",
      "DC4_flow_balance: - DC4_to_R10_amt - DC4_to_R11_amt - DC4_to_R12_amt\n",
      " - DC4_to_R13_amt - DC4_to_R14_amt - DC4_to_R15_amt - DC4_to_R1_amt\n",
      " - DC4_to_R2_amt - DC4_to_R3_amt - DC4_to_R4_amt - DC4_to_R6_amt\n",
      " - DC4_to_R7_amt - DC4_to_R8_amt - DC4_to_R9_amt - DC4_to__R5_amt\n",
      " + Plant1_to_DC4_amt + Plant2_to_DC4_amt = 0\n",
      "\n",
      "DC5_flow_balance: - DC5_to_R10_amt - DC5_to_R11_amt - DC5_to_R12_amt\n",
      " - DC5_to_R13_amt - DC5_to_R14_amt - DC5_to_R15_amt - DC5_to_R1_amt\n",
      " - DC5_to_R2_amt - DC5_to_R3_amt - DC5_to_R4_amt - DC5_to_R6_amt\n",
      " - DC5_to_R7_amt - DC5_to_R8_amt - DC5_to_R9_amt - DC5_to__R5_amt\n",
      " + Plant1_to_DC5_amt + Plant2_to_DC5_amt = 0\n",
      "\n",
      "DC1_open?: - 9999 DC1_open? + DC1_to_R10_amt + DC1_to_R11_amt + DC1_to_R12_amt\n",
      " + DC1_to_R13_amt + DC1_to_R14_amt + DC1_to_R15_amt + DC1_to_R1_amt\n",
      " + DC1_to_R2_amt + DC1_to_R3_amt + DC1_to_R4_amt + DC1_to_R6_amt\n",
      " + DC1_to_R7_amt + DC1_to_R8_amt + DC1_to_R9_amt + DC1_to__R5_amt <= 0\n",
      "\n",
      "DC2_open?: - 9999 DC2_open? + DC2_to_R10_amt + DC2_to_R11_amt + DC2_to_R12_amt\n",
      " + DC2_to_R13_amt + DC2_to_R14_amt + DC2_to_R15_amt + DC2_to_R1_amt\n",
      " + DC2_to_R2_amt + DC2_to_R3_amt + DC2_to_R4_amt + DC2_to_R6_amt\n",
      " + DC2_to_R7_amt + DC2_to_R8_amt + DC2_to_R9_amt + DC2_to__R5_amt <= 0\n",
      "\n",
      "DC3_open?: - 9999 DC3_open? + DC3_to_R10_amt + DC3_to_R11_amt + DC3_to_R12_amt\n",
      " + DC3_to_R13_amt + DC3_to_R14_amt + DC3_to_R15_amt + DC3_to_R1_amt\n",
      " + DC3_to_R2_amt + DC3_to_R3_amt + DC3_to_R4_amt + DC3_to_R6_amt\n",
      " + DC3_to_R7_amt + DC3_to_R8_amt + DC3_to_R9_amt + DC3_to__R5_amt <= 0\n",
      "\n",
      "DC4_open?: - 9999 DC4_open? + DC4_to_R10_amt + DC4_to_R11_amt + DC4_to_R12_amt\n",
      " + DC4_to_R13_amt + DC4_to_R14_amt + DC4_to_R15_amt + DC4_to_R1_amt\n",
      " + DC4_to_R2_amt + DC4_to_R3_amt + DC4_to_R4_amt + DC4_to_R6_amt\n",
      " + DC4_to_R7_amt + DC4_to_R8_amt + DC4_to_R9_amt + DC4_to__R5_amt <= 0\n",
      "\n",
      "DC5_open?: - 9999 DC5_open? + DC5_to_R10_amt + DC5_to_R11_amt + DC5_to_R12_amt\n",
      " + DC5_to_R13_amt + DC5_to_R14_amt + DC5_to_R15_amt + DC5_to_R1_amt\n",
      " + DC5_to_R2_amt + DC5_to_R3_amt + DC5_to_R4_amt + DC5_to_R6_amt\n",
      " + DC5_to_R7_amt + DC5_to_R8_amt + DC5_to_R9_amt + DC5_to__R5_amt <= 0\n",
      "\n",
      "Min_DC_open: DC1_open? + DC2_open? + DC3_open? + DC4_open? + DC5_open? >= 0\n",
      "\n",
      "Max_DC_open: DC1_open? + DC2_open? + DC3_open? + DC4_open? + DC5_open? <= 2\n",
      "\n",
      "DC4_is_opening: DC4_open? = 1\n",
      "\n",
      "60%_of_Retailer_demand_to_be_within_80_km_of_the_DC:\n",
      " 0.000133333333333 DC1_to_R13_amt + 0.000133333333333 DC1_to_R3_amt\n",
      " + 0.000133333333333 DC1_to_R6_amt + 0.000133333333333 DC1_to_R8_amt\n",
      " + 0.000133333333333 DC2_to_R10_amt + 0.000133333333333 DC2_to_R11_amt\n",
      " + 0.000133333333333 DC2_to_R12_amt + 0.000133333333333 DC2_to_R13_amt\n",
      " + 0.000133333333333 DC2_to_R14_amt + 0.000133333333333 DC2_to_R2_amt\n",
      " + 0.000133333333333 DC2_to_R3_amt + 0.000133333333333 DC2_to_R4_amt\n",
      " + 0.000133333333333 DC2_to_R6_amt + 0.000133333333333 DC2_to_R9_amt\n",
      " + 0.000133333333333 DC3_to_R10_amt + 0.000133333333333 DC3_to_R12_amt\n",
      " + 0.000133333333333 DC3_to_R13_amt + 0.000133333333333 DC3_to_R15_amt\n",
      " + 0.000133333333333 DC3_to_R3_amt + 0.000133333333333 DC3_to_R6_amt\n",
      " + 0.000133333333333 DC3_to_R8_amt + 0.000133333333333 DC3_to_R9_amt\n",
      " + 0.000133333333333 DC3_to__R5_amt + 0.000133333333333 DC4_to_R10_amt\n",
      " + 0.000133333333333 DC4_to_R11_amt + 0.000133333333333 DC4_to_R13_amt\n",
      " + 0.000133333333333 DC4_to_R14_amt + 0.000133333333333 DC4_to_R1_amt\n",
      " + 0.000133333333333 DC4_to_R2_amt + 0.000133333333333 DC4_to_R3_amt\n",
      " + 0.000133333333333 DC4_to_R4_amt + 0.000133333333333 DC4_to_R6_amt\n",
      " + 0.000133333333333 DC4_to_R7_amt + 0.000133333333333 DC4_to_R9_amt\n",
      " + 0.000133333333333 DC5_to_R2_amt + 0.000133333333333 DC5_to_R8_amt >= 0.8\n",
      "\n",
      "Average_weighted_distance_from_DC_R_<=80: 0.012 DC1_to_R10_amt\n",
      " + 0.0124 DC1_to_R11_amt + 0.0102666666667 DC1_to_R12_amt\n",
      " + 0.00733333333333 DC1_to_R13_amt + 0.0105333333333 DC1_to_R14_amt\n",
      " + 0.0121333333333 DC1_to_R15_amt + 0.0118666666667 DC1_to_R1_amt\n",
      " + 0.0104 DC1_to_R2_amt + 0.0092 DC1_to_R3_amt + 0.0126666666667 DC1_to_R4_amt\n",
      " + 0.00973333333333 DC1_to_R6_amt + 0.0117333333333 DC1_to_R7_amt\n",
      " + 0.00973333333333 DC1_to_R8_amt + 0.0114666666667 DC1_to_R9_amt\n",
      " + 0.0113333333333 DC1_to__R5_amt + 0.0088 DC2_to_R10_amt\n",
      " + 0.00986666666667 DC2_to_R11_amt + 0.0068 DC2_to_R12_amt\n",
      " + 0.0068 DC2_to_R13_amt + 0.00666666666667 DC2_to_R14_amt\n",
      " + 0.0133333333333 DC2_to_R15_amt + 0.012 DC2_to_R1_amt + 0.0096 DC2_to_R2_amt\n",
      " + 0.0084 DC2_to_R3_amt + 0.00813333333333 DC2_to_R4_amt\n",
      " + 0.00773333333333 DC2_to_R6_amt + 0.0118666666667 DC2_to_R7_amt\n",
      " + 0.0106666666667 DC2_to_R8_amt + 0.00733333333333 DC2_to_R9_amt\n",
      " + 0.0125333333333 DC2_to__R5_amt + 0.00826666666667 DC3_to_R10_amt\n",
      " + 0.0108 DC3_to_R11_amt + 0.00906666666667 DC3_to_R12_amt\n",
      " + 0.00666666666667 DC3_to_R13_amt + 0.0109333333333 DC3_to_R14_amt\n",
      " + 0.00933333333333 DC3_to_R15_amt + 0.0108 DC3_to_R1_amt\n",
      " + 0.0109333333333 DC3_to_R2_amt + 0.00946666666667 DC3_to_R3_amt\n",
      " + 0.0130666666667 DC3_to_R4_amt + 0.00946666666667 DC3_to_R6_amt\n",
      " + 0.0113333333333 DC3_to_R7_amt + 0.01 DC3_to_R8_amt + 0.0096 DC3_to_R9_amt\n",
      " + 0.00826666666667 DC3_to__R5_amt + 0.01 DC4_to_R10_amt\n",
      " + 0.00706666666667 DC4_to_R11_amt + 0.0128 DC4_to_R12_amt\n",
      " + 0.00906666666667 DC4_to_R13_amt + 0.0096 DC4_to_R14_amt\n",
      " + 0.0113333333333 DC4_to_R15_amt + 0.00973333333333 DC4_to_R1_amt\n",
      " + 0.00893333333333 DC4_to_R2_amt + 0.00733333333333 DC4_to_R3_amt\n",
      " + 0.01 DC4_to_R4_amt + 0.0072 DC4_to_R6_amt + 0.00826666666667 DC4_to_R7_amt\n",
      " + 0.0132 DC4_to_R8_amt + 0.00786666666667 DC4_to_R9_amt\n",
      " + 0.0114666666667 DC4_to__R5_amt + 0.0129333333333 DC5_to_R10_amt\n",
      " + 0.014 DC5_to_R11_amt + 0.0104 DC5_to_R12_amt\n",
      " + 0.0117333333333 DC5_to_R13_amt + 0.0106666666667 DC5_to_R14_amt\n",
      " + 0.0106666666667 DC5_to_R15_amt + 0.0118666666667 DC5_to_R1_amt\n",
      " + 0.00986666666667 DC5_to_R2_amt + 0.0106666666667 DC5_to_R3_amt\n",
      " + 0.0129333333333 DC5_to_R4_amt + 0.0134666666667 DC5_to_R6_amt\n",
      " + 0.0116 DC5_to_R7_amt + 0.00986666666667 DC5_to_R8_amt\n",
      " + 0.0134666666667 DC5_to_R9_amt + 0.0133333333333 DC5_to__R5_amt <= 65\n",
      "\n",
      "VARIABLES\n",
      "0 <= DC1_open? <= 1 Integer\n",
      "0 <= DC1_to_R10_amt Integer\n",
      "0 <= DC1_to_R11_amt Integer\n",
      "0 <= DC1_to_R12_amt Integer\n",
      "0 <= DC1_to_R13_amt Integer\n",
      "0 <= DC1_to_R14_amt Integer\n",
      "0 <= DC1_to_R15_amt Integer\n",
      "0 <= DC1_to_R1_amt Integer\n",
      "0 <= DC1_to_R2_amt Integer\n",
      "0 <= DC1_to_R3_amt Integer\n",
      "0 <= DC1_to_R4_amt Integer\n",
      "0 <= DC1_to_R6_amt Integer\n",
      "0 <= DC1_to_R7_amt Integer\n",
      "0 <= DC1_to_R8_amt Integer\n",
      "0 <= DC1_to_R9_amt Integer\n",
      "0 <= DC1_to__R5_amt Integer\n",
      "0 <= DC2_open? <= 1 Integer\n",
      "0 <= DC2_to_R10_amt Integer\n",
      "0 <= DC2_to_R11_amt Integer\n",
      "0 <= DC2_to_R12_amt Integer\n",
      "0 <= DC2_to_R13_amt Integer\n",
      "0 <= DC2_to_R14_amt Integer\n",
      "0 <= DC2_to_R15_amt Integer\n",
      "0 <= DC2_to_R1_amt Integer\n",
      "0 <= DC2_to_R2_amt Integer\n",
      "0 <= DC2_to_R3_amt Integer\n",
      "0 <= DC2_to_R4_amt Integer\n",
      "0 <= DC2_to_R6_amt Integer\n",
      "0 <= DC2_to_R7_amt Integer\n",
      "0 <= DC2_to_R8_amt Integer\n",
      "0 <= DC2_to_R9_amt Integer\n",
      "0 <= DC2_to__R5_amt Integer\n",
      "0 <= DC3_open? <= 1 Integer\n",
      "0 <= DC3_to_R10_amt Integer\n",
      "0 <= DC3_to_R11_amt Integer\n",
      "0 <= DC3_to_R12_amt Integer\n",
      "0 <= DC3_to_R13_amt Integer\n",
      "0 <= DC3_to_R14_amt Integer\n",
      "0 <= DC3_to_R15_amt Integer\n",
      "0 <= DC3_to_R1_amt Integer\n",
      "0 <= DC3_to_R2_amt Integer\n",
      "0 <= DC3_to_R3_amt Integer\n",
      "0 <= DC3_to_R4_amt Integer\n",
      "0 <= DC3_to_R6_amt Integer\n",
      "0 <= DC3_to_R7_amt Integer\n",
      "0 <= DC3_to_R8_amt Integer\n",
      "0 <= DC3_to_R9_amt Integer\n",
      "0 <= DC3_to__R5_amt Integer\n",
      "0 <= DC4_open? <= 1 Integer\n",
      "0 <= DC4_to_R10_amt Integer\n",
      "0 <= DC4_to_R11_amt Integer\n",
      "0 <= DC4_to_R12_amt Integer\n",
      "0 <= DC4_to_R13_amt Integer\n",
      "0 <= DC4_to_R14_amt Integer\n",
      "0 <= DC4_to_R15_amt Integer\n",
      "0 <= DC4_to_R1_amt Integer\n",
      "0 <= DC4_to_R2_amt Integer\n",
      "0 <= DC4_to_R3_amt Integer\n",
      "0 <= DC4_to_R4_amt Integer\n",
      "0 <= DC4_to_R6_amt Integer\n",
      "0 <= DC4_to_R7_amt Integer\n",
      "0 <= DC4_to_R8_amt Integer\n",
      "0 <= DC4_to_R9_amt Integer\n",
      "0 <= DC4_to__R5_amt Integer\n",
      "0 <= DC5_open? <= 1 Integer\n",
      "0 <= DC5_to_R10_amt Integer\n",
      "0 <= DC5_to_R11_amt Integer\n",
      "0 <= DC5_to_R12_amt Integer\n",
      "0 <= DC5_to_R13_amt Integer\n",
      "0 <= DC5_to_R14_amt Integer\n",
      "0 <= DC5_to_R15_amt Integer\n",
      "0 <= DC5_to_R1_amt Integer\n",
      "0 <= DC5_to_R2_amt Integer\n",
      "0 <= DC5_to_R3_amt Integer\n",
      "0 <= DC5_to_R4_amt Integer\n",
      "0 <= DC5_to_R6_amt Integer\n",
      "0 <= DC5_to_R7_amt Integer\n",
      "0 <= DC5_to_R8_amt Integer\n",
      "0 <= DC5_to_R9_amt Integer\n",
      "0 <= DC5_to__R5_amt Integer\n",
      "0 <= Plant1_to_DC1_amt Integer\n",
      "0 <= Plant1_to_DC2_amt Integer\n",
      "0 <= Plant1_to_DC3_amt Integer\n",
      "0 <= Plant1_to_DC4_amt Integer\n",
      "0 <= Plant1_to_DC5_amt Integer\n",
      "0 <= Plant2_to_DC1_amt Integer\n",
      "0 <= Plant2_to_DC2_amt Integer\n",
      "0 <= Plant2_to_DC3_amt Integer\n",
      "0 <= Plant2_to_DC4_amt Integer\n",
      "0 <= Plant2_to_DC5_amt Integer\n",
      "\n"
     ]
    }
   ],
   "source": [
    "my_model.solve()\n",
    "my_model.show_formulation()"
   ]
  },
  {
   "cell_type": "code",
   "execution_count": 22,
   "id": "ec6f996e-6459-4705-9d04-6cceed141c67",
   "metadata": {},
   "outputs": [
    {
     "name": "stdout",
     "output_type": "stream",
     "text": [
      "{'objective': 1427480.28,\n",
      " 'status': 'Optimal',\n",
      " 'variables': {'DC1_open?': 0.0,\n",
      "               'DC1_to_R10_amt': 0.0,\n",
      "               'DC1_to_R11_amt': 0.0,\n",
      "               'DC1_to_R12_amt': 0.0,\n",
      "               'DC1_to_R13_amt': 0.0,\n",
      "               'DC1_to_R14_amt': 0.0,\n",
      "               'DC1_to_R15_amt': 0.0,\n",
      "               'DC1_to_R1_amt': 0.0,\n",
      "               'DC1_to_R2_amt': 0.0,\n",
      "               'DC1_to_R3_amt': 0.0,\n",
      "               'DC1_to_R4_amt': 0.0,\n",
      "               'DC1_to_R6_amt': 0.0,\n",
      "               'DC1_to_R7_amt': 0.0,\n",
      "               'DC1_to_R8_amt': 0.0,\n",
      "               'DC1_to_R9_amt': 0.0,\n",
      "               'DC1_to__R5_amt': 0.0,\n",
      "               'DC2_open?': 0.0,\n",
      "               'DC2_to_R10_amt': 0.0,\n",
      "               'DC2_to_R11_amt': 0.0,\n",
      "               'DC2_to_R12_amt': 0.0,\n",
      "               'DC2_to_R13_amt': 0.0,\n",
      "               'DC2_to_R14_amt': 0.0,\n",
      "               'DC2_to_R15_amt': 0.0,\n",
      "               'DC2_to_R1_amt': 0.0,\n",
      "               'DC2_to_R2_amt': 0.0,\n",
      "               'DC2_to_R3_amt': 0.0,\n",
      "               'DC2_to_R4_amt': 0.0,\n",
      "               'DC2_to_R6_amt': 0.0,\n",
      "               'DC2_to_R7_amt': 0.0,\n",
      "               'DC2_to_R8_amt': 0.0,\n",
      "               'DC2_to_R9_amt': 0.0,\n",
      "               'DC2_to__R5_amt': 0.0,\n",
      "               'DC3_open?': 1.0,\n",
      "               'DC3_to_R10_amt': 407.0,\n",
      "               'DC3_to_R11_amt': 0.0,\n",
      "               'DC3_to_R12_amt': 690.0,\n",
      "               'DC3_to_R13_amt': 313.0,\n",
      "               'DC3_to_R14_amt': 0.0,\n",
      "               'DC3_to_R15_amt': 167.0,\n",
      "               'DC3_to_R1_amt': 0.0,\n",
      "               'DC3_to_R2_amt': 0.0,\n",
      "               'DC3_to_R3_amt': 0.0,\n",
      "               'DC3_to_R4_amt': 0.0,\n",
      "               'DC3_to_R6_amt': 0.0,\n",
      "               'DC3_to_R7_amt': 0.0,\n",
      "               'DC3_to_R8_amt': 352.0,\n",
      "               'DC3_to_R9_amt': 0.0,\n",
      "               'DC3_to__R5_amt': 340.0,\n",
      "               'DC4_open?': 1.0,\n",
      "               'DC4_to_R10_amt': 0.0,\n",
      "               'DC4_to_R11_amt': 520.0,\n",
      "               'DC4_to_R12_amt': 0.0,\n",
      "               'DC4_to_R13_amt': 0.0,\n",
      "               'DC4_to_R14_amt': 503.0,\n",
      "               'DC4_to_R15_amt': 329.0,\n",
      "               'DC4_to_R1_amt': 620.0,\n",
      "               'DC4_to_R2_amt': 457.0,\n",
      "               'DC4_to_R3_amt': 397.0,\n",
      "               'DC4_to_R4_amt': 600.0,\n",
      "               'DC4_to_R6_amt': 535.0,\n",
      "               'DC4_to_R7_amt': 750.0,\n",
      "               'DC4_to_R8_amt': 0.0,\n",
      "               'DC4_to_R9_amt': 520.0,\n",
      "               'DC4_to__R5_amt': 0.0,\n",
      "               'DC5_open?': 0.0,\n",
      "               'DC5_to_R10_amt': 0.0,\n",
      "               'DC5_to_R11_amt': 0.0,\n",
      "               'DC5_to_R12_amt': 0.0,\n",
      "               'DC5_to_R13_amt': 0.0,\n",
      "               'DC5_to_R14_amt': 0.0,\n",
      "               'DC5_to_R15_amt': 0.0,\n",
      "               'DC5_to_R1_amt': 0.0,\n",
      "               'DC5_to_R2_amt': 0.0,\n",
      "               'DC5_to_R3_amt': 0.0,\n",
      "               'DC5_to_R4_amt': 0.0,\n",
      "               'DC5_to_R6_amt': 0.0,\n",
      "               'DC5_to_R7_amt': 0.0,\n",
      "               'DC5_to_R8_amt': 0.0,\n",
      "               'DC5_to_R9_amt': 0.0,\n",
      "               'DC5_to__R5_amt': 0.0,\n",
      "               'Plant1_to_DC1_amt': 0.0,\n",
      "               'Plant1_to_DC2_amt': 0.0,\n",
      "               'Plant1_to_DC3_amt': 0.0,\n",
      "               'Plant1_to_DC4_amt': 3000.0,\n",
      "               'Plant1_to_DC5_amt': 0.0,\n",
      "               'Plant2_to_DC1_amt': 0.0,\n",
      "               'Plant2_to_DC2_amt': 0.0,\n",
      "               'Plant2_to_DC3_amt': 2269.0,\n",
      "               'Plant2_to_DC4_amt': 2231.0,\n",
      "               'Plant2_to_DC5_amt': 0.0}}\n"
     ]
    }
   ],
   "source": [
    "my_model.show_outputs()"
   ]
  }
 ],
 "metadata": {
  "kernelspec": {
   "display_name": "Python 3 (ipykernel)",
   "language": "python",
   "name": "python3"
  },
  "language_info": {
   "codemirror_mode": {
    "name": "ipython",
    "version": 3
   },
   "file_extension": ".py",
   "mimetype": "text/x-python",
   "name": "python",
   "nbconvert_exporter": "python",
   "pygments_lexer": "ipython3",
   "version": "3.11.5"
  }
 },
 "nbformat": 4,
 "nbformat_minor": 5
}
